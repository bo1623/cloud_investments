{
 "cells": [
  {
   "cell_type": "code",
   "execution_count": 10,
   "metadata": {},
   "outputs": [
    {
     "name": "stdout",
     "output_type": "stream",
     "text": [
      "Wall time: 17.9 s\n"
     ]
    }
   ],
   "source": [
    "%%time\n",
    "import requests\n",
    "import pandas as pd\n",
    "import logging\n",
    "import pandas_datareader.data as web\n",
    "import datetime\n",
    "import sys\n",
    "import os\n",
    "from dotenv import load_dotenv\n",
    "from pathlib import Path\n",
    "\n",
    "dls = \"https://cloud-index-data.bvp.com/BVP-Nasdaq-Emerging-Cloud-Index.xlsx\"\n",
    "resp = requests.get(dls)\n",
    "output = open('BVP-Nasdaq-Emerging-Cloud-Index.xlsx', 'wb')\n",
    "output.write(resp.content)\n",
    "output.close()\n",
    "\n",
    "fndmntls_df = pd.read_excel('BVP-Nasdaq-Emerging-Cloud-Index.xlsx', sheet_name='Index Constituents')\n",
    "fndmntls_df.columns = fndmntls_df.iloc[5]\n",
    "fndmntls_df = fndmntls_df.iloc[8:, 1:-1]\n",
    "fndmntls_df.dropna(subset=['Symbol'], inplace=True)\n",
    "current_tickers = ','.join(fndmntls_df['Symbol'])\n",
    "\n",
    "load_dotenv(verbose=True)\n",
    "env_path = Path('.') / '.env'\n",
    "load_dotenv(dotenv_path=env_path)\n",
    "# key = os.getenv(\"SANDBOX_KEY\")\n",
    "# batch_url = 'https://sandbox.iexapis.com/stable/stock/market/batch?symbols={}&types=chart&chartCloseOnly=True&token={}&range=5y'.format(current_tickers, key)\n",
    "key = os.getenv(\"IEX_KEY\")\n",
    "batch_url = 'https://cloud.iexapis.com/stable/stock/market/batch?symbols={}&types=chart&chartCloseOnly=True&token={}&range=5y&includeToday=True'.format(current_tickers, key)\n",
    "resp = requests.get(batch_url)\n",
    "d = pd.DataFrame(resp.json())\n",
    "os.remove('BVP-Nasdaq-Emerging-Cloud-Index.xlsx')"
   ]
  },
  {
   "cell_type": "code",
   "execution_count": 11,
   "metadata": {},
   "outputs": [
    {
     "data": {
      "text/html": [
       "<div>\n",
       "<style scoped>\n",
       "    .dataframe tbody tr th:only-of-type {\n",
       "        vertical-align: middle;\n",
       "    }\n",
       "\n",
       "    .dataframe tbody tr th {\n",
       "        vertical-align: top;\n",
       "    }\n",
       "\n",
       "    .dataframe thead th {\n",
       "        text-align: right;\n",
       "    }\n",
       "</style>\n",
       "<table border=\"1\" class=\"dataframe\">\n",
       "  <thead>\n",
       "    <tr style=\"text-align: right;\">\n",
       "      <th></th>\n",
       "      <th>chart</th>\n",
       "    </tr>\n",
       "  </thead>\n",
       "  <tbody>\n",
       "    <tr>\n",
       "      <th>TWOU</th>\n",
       "      <td>[{'date': '2016-01-06', 'close': 26.38, 'volum...</td>\n",
       "    </tr>\n",
       "    <tr>\n",
       "      <th>ADBE</th>\n",
       "      <td>[{'date': '2016-01-06', 'close': 91.02, 'volum...</td>\n",
       "    </tr>\n",
       "    <tr>\n",
       "      <th>PLAN</th>\n",
       "      <td>[{'date': '2018-10-12', 'close': 24.3, 'volume...</td>\n",
       "    </tr>\n",
       "    <tr>\n",
       "      <th>APPF</th>\n",
       "      <td>[{'date': '2016-01-06', 'close': 13.94, 'volum...</td>\n",
       "    </tr>\n",
       "    <tr>\n",
       "      <th>TEAM</th>\n",
       "      <td>[{'date': '2016-01-06', 'close': 27.05, 'volum...</td>\n",
       "    </tr>\n",
       "  </tbody>\n",
       "</table>\n",
       "</div>"
      ],
      "text/plain": [
       "                                                  chart\n",
       "TWOU  [{'date': '2016-01-06', 'close': 26.38, 'volum...\n",
       "ADBE  [{'date': '2016-01-06', 'close': 91.02, 'volum...\n",
       "PLAN  [{'date': '2018-10-12', 'close': 24.3, 'volume...\n",
       "APPF  [{'date': '2016-01-06', 'close': 13.94, 'volum...\n",
       "TEAM  [{'date': '2016-01-06', 'close': 27.05, 'volum..."
      ]
     },
     "execution_count": 11,
     "metadata": {},
     "output_type": "execute_result"
    }
   ],
   "source": [
    "d = d.T\n",
    "d.head()"
   ]
  },
  {
   "cell_type": "code",
   "execution_count": 12,
   "metadata": {},
   "outputs": [
    {
     "data": {
      "text/plain": [
       "[{'date': '2016-01-06',\n",
       "  'close': 26.38,\n",
       "  'volume': 297213,\n",
       "  'changeOverTime': 0,\n",
       "  'marketChangeOverTime': 0,\n",
       "  'label': 'Jan 6, 16',\n",
       "  'change': 0,\n",
       "  'changePercent': 0},\n",
       " {'date': '2016-01-07',\n",
       "  'close': 25.23,\n",
       "  'volume': 635223,\n",
       "  'changeOverTime': -0.04359363153904468,\n",
       "  'marketChangeOverTime': -0.04359363153904468,\n",
       "  'label': 'Jan 7, 16',\n",
       "  'change': -1.1499999999999986,\n",
       "  'changePercent': -0.0436}]"
      ]
     },
     "execution_count": 12,
     "metadata": {},
     "output_type": "execute_result"
    }
   ],
   "source": [
    "d.iloc[0,0][:2]"
   ]
  },
  {
   "cell_type": "code",
   "execution_count": 13,
   "metadata": {},
   "outputs": [
    {
     "name": "stdout",
     "output_type": "stream",
     "text": [
      "0\n",
      "1\n",
      "2\n",
      "3\n",
      "4\n",
      "5\n",
      "6\n",
      "7\n",
      "8\n",
      "9\n",
      "10\n",
      "11\n",
      "12\n",
      "13\n",
      "14\n",
      "15\n",
      "16\n",
      "17\n",
      "18\n",
      "19\n",
      "20\n",
      "21\n",
      "22\n",
      "23\n",
      "24\n",
      "25\n",
      "26\n",
      "27\n",
      "28\n",
      "29\n",
      "30\n",
      "31\n",
      "32\n",
      "33\n",
      "34\n",
      "35\n",
      "36\n",
      "37\n",
      "38\n",
      "39\n",
      "40\n",
      "41\n",
      "42\n",
      "43\n",
      "44\n",
      "45\n",
      "46\n",
      "47\n",
      "48\n",
      "49\n",
      "50\n",
      "51\n",
      "52\n",
      "53\n",
      "Wall time: 5min 37s\n"
     ]
    },
    {
     "data": {
      "text/html": [
       "<div>\n",
       "<style scoped>\n",
       "    .dataframe tbody tr th:only-of-type {\n",
       "        vertical-align: middle;\n",
       "    }\n",
       "\n",
       "    .dataframe tbody tr th {\n",
       "        vertical-align: top;\n",
       "    }\n",
       "\n",
       "    .dataframe thead th {\n",
       "        text-align: right;\n",
       "    }\n",
       "</style>\n",
       "<table border=\"1\" class=\"dataframe\">\n",
       "  <thead>\n",
       "    <tr style=\"text-align: right;\">\n",
       "      <th></th>\n",
       "      <th>ticker</th>\n",
       "      <th>date</th>\n",
       "      <th>close</th>\n",
       "      <th>volume</th>\n",
       "    </tr>\n",
       "  </thead>\n",
       "  <tbody>\n",
       "    <tr>\n",
       "      <th>0</th>\n",
       "      <td>TWOU</td>\n",
       "      <td>2016-01-06</td>\n",
       "      <td>26.38</td>\n",
       "      <td>297213</td>\n",
       "    </tr>\n",
       "    <tr>\n",
       "      <th>1</th>\n",
       "      <td>TWOU</td>\n",
       "      <td>2016-01-07</td>\n",
       "      <td>25.23</td>\n",
       "      <td>635223</td>\n",
       "    </tr>\n",
       "    <tr>\n",
       "      <th>2</th>\n",
       "      <td>TWOU</td>\n",
       "      <td>2016-01-08</td>\n",
       "      <td>24.32</td>\n",
       "      <td>364477</td>\n",
       "    </tr>\n",
       "    <tr>\n",
       "      <th>3</th>\n",
       "      <td>TWOU</td>\n",
       "      <td>2016-01-11</td>\n",
       "      <td>23.72</td>\n",
       "      <td>405094</td>\n",
       "    </tr>\n",
       "    <tr>\n",
       "      <th>4</th>\n",
       "      <td>TWOU</td>\n",
       "      <td>2016-01-12</td>\n",
       "      <td>23.27</td>\n",
       "      <td>1012093</td>\n",
       "    </tr>\n",
       "  </tbody>\n",
       "</table>\n",
       "</div>"
      ],
      "text/plain": [
       "  ticker        date  close   volume\n",
       "0   TWOU  2016-01-06  26.38   297213\n",
       "1   TWOU  2016-01-07  25.23   635223\n",
       "2   TWOU  2016-01-08  24.32   364477\n",
       "3   TWOU  2016-01-11  23.72   405094\n",
       "4   TWOU  2016-01-12  23.27  1012093"
      ]
     },
     "execution_count": 13,
     "metadata": {},
     "output_type": "execute_result"
    }
   ],
   "source": [
    "%%time\n",
    "price_df = pd.DataFrame(columns=['ticker','date','close','volume'])\n",
    "n=0\n",
    "ticker_count=0\n",
    "for idx, row in d.iterrows():\n",
    "    ticker = idx\n",
    "    print(ticker_count)\n",
    "    data = row['chart']\n",
    "    for day in data:\n",
    "        price_df.loc[n]=[ticker,day['date'],day['close'],day['volume']]\n",
    "        n+=1\n",
    "    ticker_count+=1\n",
    "price_df.head()"
   ]
  },
  {
   "cell_type": "code",
   "execution_count": 14,
   "metadata": {},
   "outputs": [],
   "source": [
    "price_df.to_csv('Historical_Prices_updated.csv',index=False)"
   ]
  },
  {
   "cell_type": "code",
   "execution_count": 15,
   "metadata": {},
   "outputs": [],
   "source": []
  }
 ],
 "metadata": {
  "kernelspec": {
   "display_name": "Python 3",
   "language": "python",
   "name": "python3"
  },
  "language_info": {
   "codemirror_mode": {
    "name": "ipython",
    "version": 3
   },
   "file_extension": ".py",
   "mimetype": "text/x-python",
   "name": "python",
   "nbconvert_exporter": "python",
   "pygments_lexer": "ipython3",
   "version": "3.7.0"
  }
 },
 "nbformat": 4,
 "nbformat_minor": 2
}
